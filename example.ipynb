{
 "cells": [
  {
   "cell_type": "markdown",
   "metadata": {},
   "source": [
    "# Doom Watch Example Notebook\n",
    "\n",
    "This notebook demonstrates how to use `doom_watch.py` to fetch simulated data, compute a risk score, and plot the indicator."
   ]
  },
  {
   "cell_type": "code",
   "execution_count": null,
   "metadata": {},
   "outputs": [],
   "source": [
    "import doom_watch\n",
    "\n",
    "# Fetch the simulated live data\n",
    "data = doom_watch.get_live_data()\n",
    "data"
   ]
  },
  {
   "cell_type": "code",
   "execution_count": null,
   "metadata": {},
   "outputs": [],
   "source": [
    "# Calculate the risk score using the fetched data\n",
    "score = doom_watch.calculate_risk_score(data)\n",
    "score"
   ]
  },
  {
   "cell_type": "code",
   "execution_count": null,
   "metadata": {},
   "outputs": [],
   "source": [
    "# Plot the risk indicator for the calculated score\n",
    "doom_watch.plot_risk_indicator(score)"
   ]
  }
 ],
 "metadata": {
  "kernelspec": {
   "display_name": "Python 3",
   "language": "python",
   "name": "python3"
  },
  "language_info": {
   "name": "python",
   "version": "3.10"
  }
 },
 "nbformat": 4,
 "nbformat_minor": 5
}
